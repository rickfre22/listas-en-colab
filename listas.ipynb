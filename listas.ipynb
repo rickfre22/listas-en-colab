{
  "nbformat": 4,
  "nbformat_minor": 0,
  "metadata": {
    "colab": {
      "provenance": [],
      "authorship_tag": "ABX9TyOa1USVkBdxYwhVG28m/TVd",
      "include_colab_link": true
    },
    "kernelspec": {
      "name": "python3",
      "display_name": "Python 3"
    },
    "language_info": {
      "name": "python"
    }
  },
  "cells": [
    {
      "cell_type": "markdown",
      "metadata": {
        "id": "view-in-github",
        "colab_type": "text"
      },
      "source": [
        "<a href=\"https://colab.research.google.com/github/rickfre22/listas-en-colab/blob/main/listas.ipynb\" target=\"_parent\"><img src=\"https://colab.research.google.com/assets/colab-badge.svg\" alt=\"Open In Colab\"/></a>"
      ]
    },
    {
      "cell_type": "markdown",
      "source": [
        "#listas\n",
        "\n",
        "- una lista hace referencia a una colleccion de datos que pueden ser nunero, cadenas(textos) o algun otro tipo.\n",
        "- son colecciones ordenadas de datos lo que implica que importan el orden en el ula se encuentran sus elementos.\n",
        "- el primer elemento el 0 posicion, el segundo el 1, y asi sucesivamente\n",
        "- son mutables: una vez creada la lista esta puede modificarse, se le puedn quitar y agregar elementos.\n",
        "- en python estas  estan representadas por el tipo ***list*** y para definirlas se utiliza la siguente sintaxis:\n",
        "\n",
        " ```nombre lista =[valor1,valor2,...,valorn]```\n",
        "\n",
        "- los elementos pueden ser de cualquier tipo, icluso pueden haber tipos diferentes en una misma lista\n",
        "- tambien es posinle crer una lista usando el contrutor  \n",
        "```list()```\n"
      ],
      "metadata": {
        "id": "GB-UfGdiClsg"
      }
    },
    {
      "cell_type": "code",
      "execution_count": null,
      "metadata": {
        "id": "yjQyXZI_CY61"
      },
      "outputs": [],
      "source": [
        "#ejemplo 1\n",
        "\n",
        "#usado los[] y dadndo valores para inicializar las listas\n",
        "\n",
        "dias_laborables = ['lunes','martes','miercoles','jueves','viernes']\n",
        "print(dias_laborables)\n",
        "\n",
        "colores_primarios = ['rojos','amarillo','azul']\n",
        "print(colores_primarios)\n",
        "\n",
        "precios = [205.30,107.18,25,450,310.89,170.23,340]\n",
        "print(precios)\n",
        "print (type(precios))\n",
        "mezcolanza = [12,'octubre' ,1492, True]\n",
        "lista_vacia = []\n",
        "\n",
        "#usado el constructor list()\n",
        "lista_vacia = list()\n",
        "lista_3 = list(range(0,30,2))\n",
        "print(lista_3)\n",
        "lista_4 = list(range(29,0,-2))\n",
        "print(lista_4)\n",
        "lista_5 = list('nestor jesus')\n",
        "print (lista_5)\n",
        "frase = 'nestor jesus paez sarmiento'\n",
        "lista_6 = frase.split()\n",
        "print(lista_6)\n"
      ]
    },
    {
      "cell_type": "markdown",
      "source": [
        "## operaciones\n",
        "\n",
        "###  operador +\n",
        "- concatenar o pegar los elementos de una list al final de otra\n",
        "### operador *\n",
        "- repetir la secuencia de elementos de la lista tantas vece como la indique\n",
        "el valor que la acompaña."
      ],
      "metadata": {
        "id": "jWCCm4_cQwF1"
      }
    },
    {
      "cell_type": "code",
      "source": [
        "dias_laborables = ['lunes','martes','miercoles','jueves','viernes']\n",
        "colores_primarios = ['rojos','amarillo','azul']\n",
        "precios = [205.30,107.18,25,450,310.89,170.23,340]\n",
        "# acceso a los elementos de una lista\n",
        "print(dias_laborables[0])\n",
        "print(dias_laborables[-1])\n",
        "print(dias_laborables[-5])\n",
        "\n",
        "# operador +\n",
        "\n",
        "fin_semana =['sabado','domingo']\n",
        "semana =dias_laborables + fin_semana\n",
        "print(semana)\n",
        "\n",
        "#operador *\n",
        "colores_repetidos = colores_primarios * 3\n",
        "print(colores_repetidos)\n",
        "\n",
        "\n"
      ],
      "metadata": {
        "id": "3hWTWQWBRlmQ"
      },
      "execution_count": null,
      "outputs": []
    },
    {
      "cell_type": "markdown",
      "source": [],
      "metadata": {
        "id": "YxJEwQktR-a1"
      }
    },
    {
      "cell_type": "markdown",
      "source": [
        "## funciones asociadas a las listas"
      ],
      "metadata": {
        "id": "X0HF_RjaUH3f"
      }
    },
    {
      "cell_type": "code",
      "source": [
        "dias_laborables = ['lunes','martes','miercoles','jueves','viernes']\n",
        "colores_primarios = ['rojos','amarillo','azul']\n",
        "precios = [205.30,107.18,25,450,310.89,170.23,340]\n",
        "pares = list(range(0,30,2))\n",
        "\n",
        "inpares = list(range(29,0,-2))\n",
        "\n",
        "colores_repetidos = colores_primarios * 3\n",
        "\n",
        "#append(): agraga un elemento al final de la lista\n",
        "dias_laborables.append('sabado')\n",
        "print(dias_laborables)\n",
        "\n",
        "# len():total elementops de la lista\n",
        "print(\"total de precios =\" ,len(precios))\n",
        "# numeral cout(): cuenta el numwro de veces que un elemento en la lista\n",
        "print(f\"el lunes aparece {dias_laborables.count('lunes')} veces(veces)\")\n",
        "# insert(): agrega en el la pocision undicada por el indice el nuevo valor,desplazando los demas elementos hacia la derecha.\n",
        "colores_primarios.insert(2,'verde')\n",
        "print(colores_primarios)\n",
        "\n",
        "# remove():  quita el elemento de la list, si el elemento lazan una excesion\n",
        "dias_laborables.remove('sabado')\n",
        "print(dias_laborables)\n",
        "\n",
        "#sort()ordena la lista de menor a mayor\n",
        "\n",
        "precios.sort()\n",
        "print(precios)\n",
        "precios.sort(reverse=True)\n",
        "print(precios)\n",
        "\n",
        "#reverse():nos permite procesar los elementos de una secuencia en orden inverso\n",
        "\n",
        "# pop():elimina el último elemento de un array y lo devuelve.\n",
        "\n",
        "# clear():eliminar todos los elementos (pares clave-valor) de un diccionario\n",
        "\n",
        "# del\n"
      ],
      "metadata": {
        "id": "Z7V6hWjbUUZW"
      },
      "execution_count": null,
      "outputs": []
    },
    {
      "cell_type": "markdown",
      "source": [
        "## particion o divicion de listas(slicing o rebanadas)\n",
        "- se pueden generar sublistas a partir de una lista por medio de la particiion (divucion) i slicing\n",
        "- para obtener una sublista se usa la siguente sintaxis: ```sublista=lista[inicio:fin:n]```"
      ],
      "metadata": {
        "id": "ERKLuN8Mf5nE"
      }
    },
    {
      "cell_type": "code",
      "source": [
        "# se cra una lista de numeros\n",
        "lista_1 = [1,2,3,4,5,6]\n",
        "#sublista con los elementos de las posicioines 0 a la 2 inclusive\n",
        "sublista_1 =lista_1[0:3]\n",
        "print(sublista_1)\n",
        "# sublista con  los elementos 0 a las 3 inclusive\n",
        "sublista_2 = lista_1 [0:3]\n",
        "# sublista con los elementos 3 al 5 inclusive\n",
        "sublista_3 = lista_1[3:]\n",
        "print(sublista_3)\n",
        "# sublista con los elementos desde el incio hasta el final con salto de a dos\n",
        "sublista_4 = lista_1[::2]\n",
        "print(sublista_4)"
      ],
      "metadata": {
        "colab": {
          "base_uri": "https://localhost:8080/"
        },
        "id": "O-BEPYJsg66S",
        "outputId": "7ec1d0fd-170d-4f3b-f602-2db43e317c8e"
      },
      "execution_count": 17,
      "outputs": [
        {
          "output_type": "stream",
          "name": "stdout",
          "text": [
            "[1, 2, 3]\n",
            "[4, 5, 6]\n",
            "[1, 3, 5]\n"
          ]
        }
      ]
    }
  ]
}