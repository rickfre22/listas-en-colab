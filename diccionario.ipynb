{
  "nbformat": 4,
  "nbformat_minor": 0,
  "metadata": {
    "colab": {
      "provenance": [],
      "authorship_tag": "ABX9TyPmDBCuzexsB6FB1+iJ3/Tz",
      "include_colab_link": true
    },
    "kernelspec": {
      "name": "python3",
      "display_name": "Python 3"
    },
    "language_info": {
      "name": "python"
    }
  },
  "cells": [
    {
      "cell_type": "markdown",
      "metadata": {
        "id": "view-in-github",
        "colab_type": "text"
      },
      "source": [
        "<a href=\"https://colab.research.google.com/github/rickfre22/listas-en-colab/blob/main/diccionario.ipynb\" target=\"_parent\"><img src=\"https://colab.research.google.com/assets/colab-badge.svg\" alt=\"Open In Colab\"/></a>"
      ]
    },
    {
      "cell_type": "markdown",
      "source": [
        "#diccionarios\n",
        "\n",
        "- son datos estructurados es decir hacen referencia a una coleccion de datos\n",
        "- son una coleccion desordenada de pares de datos de la foma clave:valor\n",
        "conocidos como elementos  o items\n",
        "- son mutables por lo tanto una vez defenido se le pueden agregar  nuevos elementos  y modifucar o eliminar unos de los elementos\n",
        "- tambien se le conoce com mapa de hash o arreglos asociativos.\n",
        "- en python los diccionarios  son de tipos dict y se utiliza la siguente sintaxis para  crear una variable de este tipo:\n",
        "\n",
        "`nombre_dict = {clave1:valor1, clave2:valor2}`\n",
        "\n",
        "- cada item o elemento tiene la forma clave:valor\n",
        "- en cada item a una clave y uno o mas valores. si se desconoce valor se puede llenar con `none`\n",
        "- los elemento del diccionario se indexan por la clave\n",
        "- las claves solo pueden ser datos inmutables\n",
        "- las claves no pueden repetirse dentro de un diccionario.\n"
      ],
      "metadata": {
        "id": "xwC0lsEHpadJ"
      }
    },
    {
      "cell_type": "code",
      "execution_count": 6,
      "metadata": {
        "colab": {
          "base_uri": "https://localhost:8080/",
          "height": 313
        },
        "id": "82QWHRhYpUv2",
        "outputId": "56a7b81c-2358-4fe0-f8e2-720f36b15b71"
      },
      "outputs": [
        {
          "output_type": "stream",
          "name": "stdout",
          "text": [
            "{'enero': 1, 'febrero': 2, 'marzo': 3, 'abril': 4, 'mayo': 5, 'jun:': 6, 'julio': 7, 'agosto': 8, 'septiembre': 9, 'octubre': 10, 'noviembre': 11, 'diciembre': 12}\n",
            "{1: 'enero', 2: 'febrero', 3: 'marzo', 4: 'abril', 5: 'mayo', 6: 'junio', 7: 'julio', 8: 'agosto', 9: 'septiembre', 10: 'octubre', 11: 'noviembre', 12: 'diciembre'}\n",
            "{'manzana': 34, 'pera': 45, 'uva': 23}\n",
            "{'manzana': 34, 'pera': 45, 'uva': 23, 'cereza': 90}\n",
            "{'manzana': 34, 'pera': 45, 'uva': 23, 'cereza': 100}\n",
            "{'manzana': 34, 'pera': 45, 'uva': 23}\n"
          ]
        },
        {
          "output_type": "error",
          "ename": "TypeError",
          "evalue": "'dict' object is not callable",
          "traceback": [
            "\u001b[0;31m---------------------------------------------------------------------------\u001b[0m",
            "\u001b[0;31mTypeError\u001b[0m                                 Traceback (most recent call last)",
            "\u001b[0;32m<ipython-input-6-07ddc2271bef>\u001b[0m in \u001b[0;36m<cell line: 0>\u001b[0;34m()\u001b[0m\n\u001b[1;32m     22\u001b[0m \u001b[0;34m\u001b[0m\u001b[0m\n\u001b[1;32m     23\u001b[0m \u001b[0;31m# consultar valor dada una clave\u001b[0m\u001b[0;34m\u001b[0m\u001b[0;34m\u001b[0m\u001b[0m\n\u001b[0;32m---> 24\u001b[0;31m \u001b[0mprint\u001b[0m \u001b[0;34m(\u001b[0m\u001b[0mfrutas\u001b[0m\u001b[0;34m(\u001b[0m\u001b[0;34m'el valor de manzanas es: '\u001b[0m\u001b[0;34m,\u001b[0m \u001b[0mfrutas\u001b[0m\u001b[0;34m[\u001b[0m\u001b[0;34m'manzana'\u001b[0m\u001b[0;34m]\u001b[0m\u001b[0;34m)\u001b[0m\u001b[0;34m)\u001b[0m\u001b[0;34m\u001b[0m\u001b[0;34m\u001b[0m\u001b[0m\n\u001b[0m",
            "\u001b[0;31mTypeError\u001b[0m: 'dict' object is not callable"
          ]
        }
      ],
      "source": [
        "# dicccionario con clave tipo cadena\n",
        "\n",
        "num_meses = {'enero':1, 'febrero':2, 'marzo':3, 'abril':4, 'mayo':5, 'jun:':6, 'julio':7, 'agosto':8,\n",
        "             'septiembre':9, 'octubre':10, 'noviembre':11, 'diciembre':12}\n",
        "print(num_meses)\n",
        "nombes_meses = {1:'enero', 2:'febrero', 3:'marzo', 4:'abril',5:'mayo', 6:'junio', 7:'julio', 8:'agosto',\n",
        "             9:'septiembre', 10:'octubre', 11:'noviembre', 12:'diciembre'}\n",
        "print(nombes_meses)\n",
        "\n",
        "frutas = {'manzana':34,'pera':45,'uva':23}\n",
        "print(frutas)\n",
        "\n",
        "#agragar elementos\n",
        "frutas['cereza'] =90\n",
        "print(frutas)\n",
        "# modifucar un elemento\n",
        "frutas['cereza'] = 100\n",
        "print(frutas)\n",
        "# eliminar un elemento\n",
        "del frutas['cereza']\n",
        "print(frutas)\n",
        "\n",
        "# consultar valor dada una clave\n",
        "print (frutas('el valor de manzanas es: ', frutas['manzana']))"
      ]
    }
  ]
}